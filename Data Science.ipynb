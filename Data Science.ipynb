{
 "cells": [
  {
   "cell_type": "markdown",
   "id": "11aa6097-479b-41dd-98e4-a5924242a81b",
   "metadata": {},
   "source": [
    "# Intro to Data Science with Pokemon\n",
    "***"
   ]
  },
  {
   "cell_type": "markdown",
   "id": "ed582202-739f-4538-a3ff-94b49aebb593",
   "metadata": {},
   "source": [
    "### Arrays"
   ]
  },
  {
   "cell_type": "code",
   "execution_count": 1,
   "id": "2500d5cb-12a7-4978-9e96-6e03bc260393",
   "metadata": {},
   "outputs": [],
   "source": [
    "food = [\"Ham\", \"Cheese\", \"Bread\", \"Bacon\", \"Tomatoes\", \"Lettuce\"]"
   ]
  },
  {
   "cell_type": "code",
   "execution_count": 2,
   "id": "0d586578-abb1-4e2f-8999-78eaec9a23e1",
   "metadata": {},
   "outputs": [
    {
     "name": "stdout",
     "output_type": "stream",
     "text": [
      "['Ham', 'Cheese', 'Bread', 'Bacon', 'Tomatoes', 'Lettuce']\n"
     ]
    }
   ],
   "source": [
    "print(food)"
   ]
  },
  {
   "cell_type": "code",
   "execution_count": 3,
   "id": "b12c4147-fe58-444f-aad3-241d0342afa4",
   "metadata": {},
   "outputs": [
    {
     "name": "stdout",
     "output_type": "stream",
     "text": [
      "Ham\n"
     ]
    }
   ],
   "source": [
    "print(food[0])"
   ]
  },
  {
   "cell_type": "code",
   "execution_count": 4,
   "id": "b3f21939-15eb-4412-bfde-a70cc2f39027",
   "metadata": {},
   "outputs": [
    {
     "name": "stdout",
     "output_type": "stream",
     "text": [
      "Tomatoes\n"
     ]
    }
   ],
   "source": [
    "print(food[4])"
   ]
  },
  {
   "cell_type": "code",
   "execution_count": 5,
   "id": "71b8a217-e4d6-4da4-a53e-33115f014fa7",
   "metadata": {},
   "outputs": [
    {
     "name": "stdout",
     "output_type": "stream",
     "text": [
      "['Ham', 'Cheese', 'Bread']\n"
     ]
    }
   ],
   "source": [
    "sliced_food = food[0:3]\n",
    "print(sliced_food)"
   ]
  },
  {
   "cell_type": "markdown",
   "id": "e982c3fb-a1ef-4147-81ef-e6daf763deda",
   "metadata": {},
   "source": [
    "### Import Libraries\n",
    "***"
   ]
  },
  {
   "cell_type": "code",
   "execution_count": 6,
   "id": "f02b6784-6797-4d89-aa10-bc94f7e63840",
   "metadata": {},
   "outputs": [],
   "source": [
    "import pandas as pd\n",
    "import numpy as py\n",
    "import seaborn as sb"
   ]
  },
  {
   "cell_type": "code",
   "execution_count": 7,
   "id": "fd966291-40a3-4ce2-8d7c-bcc64cf677d4",
   "metadata": {},
   "outputs": [
    {
     "name": "stdout",
     "output_type": "stream",
     "text": [
      "Pandas version2.1.3\n",
      "Numpy version1.26.2\n",
      "Seaborn version0.13.0\n"
     ]
    }
   ],
   "source": [
    "print(\"Pandas version\" + pd.__version__)\n",
    "print(\"Numpy version\" + py.__version__)\n",
    "print(\"Seaborn version\" + sb.__version__)"
   ]
  },
  {
   "cell_type": "markdown",
   "id": "2f7e91de-cd28-467f-9587-30c77318aca4",
   "metadata": {},
   "source": [
    "### Loading Data\n",
    "***"
   ]
  },
  {
   "cell_type": "code",
   "execution_count": 10,
   "id": "c47d45d9-2884-45ba-bced-b72715dd2ed0",
   "metadata": {},
   "outputs": [],
   "source": [
    "df = pd.read_csv(\"pokemon.csv\")"
   ]
  },
  {
   "cell_type": "markdown",
   "id": "9db058d3-1076-46a2-a066-f39f71694ac6",
   "metadata": {},
   "source": [
    "### Displaying Full Data Frames\n",
    "***"
   ]
  },
  {
   "cell_type": "code",
   "execution_count": 8,
   "id": "feaa51a2-57dc-4c59-b233-bf7f235a8605",
   "metadata": {},
   "outputs": [],
   "source": [
    "# pd.set_option(\"display.max_rows\", 20)"
   ]
  },
  {
   "cell_type": "code",
   "execution_count": 11,
   "id": "2f5a2922-9ef9-49b1-b2e5-0ba04a02d59c",
   "metadata": {},
   "outputs": [
    {
     "data": {
      "text/html": [
       "<div>\n",
       "<style scoped>\n",
       "    .dataframe tbody tr th:only-of-type {\n",
       "        vertical-align: middle;\n",
       "    }\n",
       "\n",
       "    .dataframe tbody tr th {\n",
       "        vertical-align: top;\n",
       "    }\n",
       "\n",
       "    .dataframe thead th {\n",
       "        text-align: right;\n",
       "    }\n",
       "</style>\n",
       "<table border=\"1\" class=\"dataframe\">\n",
       "  <thead>\n",
       "    <tr style=\"text-align: right;\">\n",
       "      <th></th>\n",
       "      <th>Per</th>\n",
       "      <th>Nat</th>\n",
       "      <th>Pokemon</th>\n",
       "      <th>HP</th>\n",
       "      <th>Atk</th>\n",
       "      <th>Def</th>\n",
       "      <th>SpA</th>\n",
       "      <th>SpD</th>\n",
       "      <th>Spe</th>\n",
       "      <th>Total</th>\n",
       "      <th>...</th>\n",
       "      <th>Catch</th>\n",
       "      <th>EXP</th>\n",
       "      <th>Evolve</th>\n",
       "      <th>Per.1</th>\n",
       "      <th>Nat.1</th>\n",
       "      <th>Joh</th>\n",
       "      <th>Hoe</th>\n",
       "      <th>Sin</th>\n",
       "      <th>Un</th>\n",
       "      <th>Pokemon.1</th>\n",
       "    </tr>\n",
       "  </thead>\n",
       "  <tbody>\n",
       "    <tr>\n",
       "      <th>0</th>\n",
       "      <td>1.0</td>\n",
       "      <td>1.0</td>\n",
       "      <td>Bulbasaur</td>\n",
       "      <td>45</td>\n",
       "      <td>49</td>\n",
       "      <td>49</td>\n",
       "      <td>65</td>\n",
       "      <td>65</td>\n",
       "      <td>45</td>\n",
       "      <td>318</td>\n",
       "      <td>...</td>\n",
       "      <td>45</td>\n",
       "      <td>1059860</td>\n",
       "      <td>NaN</td>\n",
       "      <td>1.0</td>\n",
       "      <td>1.0</td>\n",
       "      <td>226.0</td>\n",
       "      <td>NaN</td>\n",
       "      <td>NaN</td>\n",
       "      <td>NaN</td>\n",
       "      <td>Bulbasaur</td>\n",
       "    </tr>\n",
       "    <tr>\n",
       "      <th>1</th>\n",
       "      <td>2.0</td>\n",
       "      <td>2.0</td>\n",
       "      <td>Ivysaur</td>\n",
       "      <td>60</td>\n",
       "      <td>62</td>\n",
       "      <td>63</td>\n",
       "      <td>80</td>\n",
       "      <td>80</td>\n",
       "      <td>60</td>\n",
       "      <td>405</td>\n",
       "      <td>...</td>\n",
       "      <td>45</td>\n",
       "      <td>1059860</td>\n",
       "      <td>Lv. 16</td>\n",
       "      <td>2.0</td>\n",
       "      <td>2.0</td>\n",
       "      <td>227.0</td>\n",
       "      <td>NaN</td>\n",
       "      <td>NaN</td>\n",
       "      <td>NaN</td>\n",
       "      <td>Ivysaur</td>\n",
       "    </tr>\n",
       "    <tr>\n",
       "      <th>2</th>\n",
       "      <td>3.0</td>\n",
       "      <td>3.0</td>\n",
       "      <td>Venusaur</td>\n",
       "      <td>80</td>\n",
       "      <td>82</td>\n",
       "      <td>83</td>\n",
       "      <td>100</td>\n",
       "      <td>100</td>\n",
       "      <td>80</td>\n",
       "      <td>525</td>\n",
       "      <td>...</td>\n",
       "      <td>45</td>\n",
       "      <td>1059860</td>\n",
       "      <td>Lv. 32</td>\n",
       "      <td>3.0</td>\n",
       "      <td>3.0</td>\n",
       "      <td>228.0</td>\n",
       "      <td>NaN</td>\n",
       "      <td>NaN</td>\n",
       "      <td>NaN</td>\n",
       "      <td>Venusaur</td>\n",
       "    </tr>\n",
       "    <tr>\n",
       "      <th>3</th>\n",
       "      <td>4.0</td>\n",
       "      <td>4.0</td>\n",
       "      <td>Charmander</td>\n",
       "      <td>39</td>\n",
       "      <td>52</td>\n",
       "      <td>43</td>\n",
       "      <td>60</td>\n",
       "      <td>50</td>\n",
       "      <td>65</td>\n",
       "      <td>309</td>\n",
       "      <td>...</td>\n",
       "      <td>45</td>\n",
       "      <td>1059860</td>\n",
       "      <td>NaN</td>\n",
       "      <td>4.0</td>\n",
       "      <td>4.0</td>\n",
       "      <td>229.0</td>\n",
       "      <td>NaN</td>\n",
       "      <td>NaN</td>\n",
       "      <td>NaN</td>\n",
       "      <td>Charmander</td>\n",
       "    </tr>\n",
       "    <tr>\n",
       "      <th>4</th>\n",
       "      <td>5.0</td>\n",
       "      <td>5.0</td>\n",
       "      <td>Charmeleon</td>\n",
       "      <td>58</td>\n",
       "      <td>64</td>\n",
       "      <td>58</td>\n",
       "      <td>80</td>\n",
       "      <td>65</td>\n",
       "      <td>80</td>\n",
       "      <td>405</td>\n",
       "      <td>...</td>\n",
       "      <td>45</td>\n",
       "      <td>1059860</td>\n",
       "      <td>Lv. 16</td>\n",
       "      <td>5.0</td>\n",
       "      <td>5.0</td>\n",
       "      <td>230.0</td>\n",
       "      <td>NaN</td>\n",
       "      <td>NaN</td>\n",
       "      <td>NaN</td>\n",
       "      <td>Charmeleon</td>\n",
       "    </tr>\n",
       "    <tr>\n",
       "      <th>...</th>\n",
       "      <td>...</td>\n",
       "      <td>...</td>\n",
       "      <td>...</td>\n",
       "      <td>...</td>\n",
       "      <td>...</td>\n",
       "      <td>...</td>\n",
       "      <td>...</td>\n",
       "      <td>...</td>\n",
       "      <td>...</td>\n",
       "      <td>...</td>\n",
       "      <td>...</td>\n",
       "      <td>...</td>\n",
       "      <td>...</td>\n",
       "      <td>...</td>\n",
       "      <td>...</td>\n",
       "      <td>...</td>\n",
       "      <td>...</td>\n",
       "      <td>...</td>\n",
       "      <td>...</td>\n",
       "      <td>...</td>\n",
       "      <td>...</td>\n",
       "    </tr>\n",
       "    <tr>\n",
       "      <th>658</th>\n",
       "      <td>646.0</td>\n",
       "      <td>646.0</td>\n",
       "      <td>Kyurem</td>\n",
       "      <td>125</td>\n",
       "      <td>130</td>\n",
       "      <td>90</td>\n",
       "      <td>130</td>\n",
       "      <td>90</td>\n",
       "      <td>95</td>\n",
       "      <td>660</td>\n",
       "      <td>...</td>\n",
       "      <td>3</td>\n",
       "      <td>1250000</td>\n",
       "      <td>N</td>\n",
       "      <td>646.0</td>\n",
       "      <td>646.0</td>\n",
       "      <td>NaN</td>\n",
       "      <td>NaN</td>\n",
       "      <td>NaN</td>\n",
       "      <td>152.0</td>\n",
       "      <td>Kyurem</td>\n",
       "    </tr>\n",
       "    <tr>\n",
       "      <th>659</th>\n",
       "      <td>647.0</td>\n",
       "      <td>647.0</td>\n",
       "      <td>Keldeo</td>\n",
       "      <td>91</td>\n",
       "      <td>72</td>\n",
       "      <td>90</td>\n",
       "      <td>129</td>\n",
       "      <td>90</td>\n",
       "      <td>108</td>\n",
       "      <td>580</td>\n",
       "      <td>...</td>\n",
       "      <td>3</td>\n",
       "      <td>1250000</td>\n",
       "      <td>N</td>\n",
       "      <td>647.0</td>\n",
       "      <td>647.0</td>\n",
       "      <td>NaN</td>\n",
       "      <td>NaN</td>\n",
       "      <td>NaN</td>\n",
       "      <td>153.0</td>\n",
       "      <td>Keldeo</td>\n",
       "    </tr>\n",
       "    <tr>\n",
       "      <th>660</th>\n",
       "      <td>648.0</td>\n",
       "      <td>648.0</td>\n",
       "      <td>Meloetta (A)</td>\n",
       "      <td>100</td>\n",
       "      <td>77</td>\n",
       "      <td>77</td>\n",
       "      <td>128</td>\n",
       "      <td>128</td>\n",
       "      <td>90</td>\n",
       "      <td>600</td>\n",
       "      <td>...</td>\n",
       "      <td>3</td>\n",
       "      <td>1250000</td>\n",
       "      <td>N</td>\n",
       "      <td>648.0</td>\n",
       "      <td>648.0</td>\n",
       "      <td>NaN</td>\n",
       "      <td>NaN</td>\n",
       "      <td>NaN</td>\n",
       "      <td>154.0</td>\n",
       "      <td>Meloetta (A)</td>\n",
       "    </tr>\n",
       "    <tr>\n",
       "      <th>661</th>\n",
       "      <td>648.1</td>\n",
       "      <td>648.1</td>\n",
       "      <td>Meloetta (P)</td>\n",
       "      <td>100</td>\n",
       "      <td>128</td>\n",
       "      <td>90</td>\n",
       "      <td>77</td>\n",
       "      <td>77</td>\n",
       "      <td>128</td>\n",
       "      <td>600</td>\n",
       "      <td>...</td>\n",
       "      <td>3</td>\n",
       "      <td>1250000</td>\n",
       "      <td>N</td>\n",
       "      <td>648.1</td>\n",
       "      <td>648.1</td>\n",
       "      <td>NaN</td>\n",
       "      <td>NaN</td>\n",
       "      <td>NaN</td>\n",
       "      <td>154.1</td>\n",
       "      <td>Meloetta (P)</td>\n",
       "    </tr>\n",
       "    <tr>\n",
       "      <th>662</th>\n",
       "      <td>649.0</td>\n",
       "      <td>649.0</td>\n",
       "      <td>Genesect</td>\n",
       "      <td>71</td>\n",
       "      <td>120</td>\n",
       "      <td>95</td>\n",
       "      <td>120</td>\n",
       "      <td>95</td>\n",
       "      <td>99</td>\n",
       "      <td>600</td>\n",
       "      <td>...</td>\n",
       "      <td>3</td>\n",
       "      <td>1250000</td>\n",
       "      <td>N</td>\n",
       "      <td>649.0</td>\n",
       "      <td>649.0</td>\n",
       "      <td>NaN</td>\n",
       "      <td>NaN</td>\n",
       "      <td>NaN</td>\n",
       "      <td>155.0</td>\n",
       "      <td>Genesect</td>\n",
       "    </tr>\n",
       "  </tbody>\n",
       "</table>\n",
       "<p>663 rows × 35 columns</p>\n",
       "</div>"
      ],
      "text/plain": [
       "       Per    Nat       Pokemon   HP  Atk  Def  SpA  SpD  Spe  Total  ...  \\\n",
       "0      1.0    1.0     Bulbasaur   45   49   49   65   65   45    318  ...   \n",
       "1      2.0    2.0       Ivysaur   60   62   63   80   80   60    405  ...   \n",
       "2      3.0    3.0      Venusaur   80   82   83  100  100   80    525  ...   \n",
       "3      4.0    4.0    Charmander   39   52   43   60   50   65    309  ...   \n",
       "4      5.0    5.0    Charmeleon   58   64   58   80   65   80    405  ...   \n",
       "..     ...    ...           ...  ...  ...  ...  ...  ...  ...    ...  ...   \n",
       "658  646.0  646.0        Kyurem  125  130   90  130   90   95    660  ...   \n",
       "659  647.0  647.0        Keldeo   91   72   90  129   90  108    580  ...   \n",
       "660  648.0  648.0  Meloetta (A)  100   77   77  128  128   90    600  ...   \n",
       "661  648.1  648.1  Meloetta (P)  100  128   90   77   77  128    600  ...   \n",
       "662  649.0  649.0      Genesect   71  120   95  120   95   99    600  ...   \n",
       "\n",
       "    Catch      EXP  Evolve  Per.1  Nat.1    Joh Hoe  Sin     Un     Pokemon.1  \n",
       "0      45  1059860     NaN    1.0    1.0  226.0 NaN  NaN    NaN     Bulbasaur  \n",
       "1      45  1059860  Lv. 16    2.0    2.0  227.0 NaN  NaN    NaN       Ivysaur  \n",
       "2      45  1059860  Lv. 32    3.0    3.0  228.0 NaN  NaN    NaN      Venusaur  \n",
       "3      45  1059860     NaN    4.0    4.0  229.0 NaN  NaN    NaN    Charmander  \n",
       "4      45  1059860  Lv. 16    5.0    5.0  230.0 NaN  NaN    NaN    Charmeleon  \n",
       "..    ...      ...     ...    ...    ...    ...  ..  ...    ...           ...  \n",
       "658     3  1250000       N  646.0  646.0    NaN NaN  NaN  152.0        Kyurem  \n",
       "659     3  1250000       N  647.0  647.0    NaN NaN  NaN  153.0        Keldeo  \n",
       "660     3  1250000       N  648.0  648.0    NaN NaN  NaN  154.0  Meloetta (A)  \n",
       "661     3  1250000       N  648.1  648.1    NaN NaN  NaN  154.1  Meloetta (P)  \n",
       "662     3  1250000       N  649.0  649.0    NaN NaN  NaN  155.0      Genesect  \n",
       "\n",
       "[663 rows x 35 columns]"
      ]
     },
     "execution_count": 11,
     "metadata": {},
     "output_type": "execute_result"
    }
   ],
   "source": [
    "df.head(700)"
   ]
  },
  {
   "cell_type": "markdown",
   "id": "29194b37-9754-468f-a356-0532f2562935",
   "metadata": {},
   "source": [
    "### Accessing Columns\n",
    "***"
   ]
  },
  {
   "cell_type": "code",
   "execution_count": 13,
   "id": "2f21fc5b-f7fb-4c76-ada0-343d3ee18709",
   "metadata": {},
   "outputs": [
    {
     "data": {
      "text/plain": [
       "0         Bulbasaur\n",
       "1           Ivysaur\n",
       "2          Venusaur\n",
       "3        Charmander\n",
       "4        Charmeleon\n",
       "           ...     \n",
       "658          Kyurem\n",
       "659          Keldeo\n",
       "660    Meloetta (A)\n",
       "661    Meloetta (P)\n",
       "662        Genesect\n",
       "Name: Pokemon, Length: 663, dtype: object"
      ]
     },
     "execution_count": 13,
     "metadata": {},
     "output_type": "execute_result"
    }
   ],
   "source": [
    "df.Pokemon"
   ]
  },
  {
   "cell_type": "code",
   "execution_count": 14,
   "id": "0622c119-8fe5-4987-8da8-dd52c76c8ffd",
   "metadata": {},
   "outputs": [
    {
     "data": {
      "text/plain": [
       "'Amoonguss'"
      ]
     },
     "execution_count": 14,
     "metadata": {},
     "output_type": "execute_result"
    }
   ],
   "source": [
    "df.Pokemon[603]"
   ]
  },
  {
   "cell_type": "code",
   "execution_count": 15,
   "id": "0680b867-2bce-4970-a00f-417d6771e2d1",
   "metadata": {},
   "outputs": [
    {
     "data": {
      "text/plain": [
       "0     Bulbasaur\n",
       "1       Ivysaur\n",
       "2      Venusaur\n",
       "3    Charmander\n",
       "4    Charmeleon\n",
       "5     Charizard\n",
       "6      Squirtle\n",
       "7     Wartortle\n",
       "8     Blastoise\n",
       "9      Caterpie\n",
       "Name: Pokemon, dtype: object"
      ]
     },
     "execution_count": 15,
     "metadata": {},
     "output_type": "execute_result"
    }
   ],
   "source": [
    "df.Pokemon[0:10]"
   ]
  },
  {
   "cell_type": "markdown",
   "id": "a1d9a36d-0cab-4b70-b5ed-98e83ea5ab52",
   "metadata": {},
   "source": [
    "### Accessing Multiple Columns\n",
    "***"
   ]
  },
  {
   "cell_type": "markdown",
   "id": "34a46832-7d57-4a9a-a331-139ab040a57c",
   "metadata": {},
   "source": [
    "You can access multiple columns using a variable"
   ]
  },
  {
   "cell_type": "code",
   "execution_count": 17,
   "id": "3e899ba8-83b4-488d-a4d1-f350870489d1",
   "metadata": {},
   "outputs": [],
   "source": [
    "pokemon_Atk_HP = df[[\"Pokemon\", \"HP\", \"Atk\"]]"
   ]
  },
  {
   "cell_type": "code",
   "execution_count": 19,
   "id": "a77edd39-4ab0-484d-863a-86c82d08940e",
   "metadata": {},
   "outputs": [
    {
     "data": {
      "text/html": [
       "<div>\n",
       "<style scoped>\n",
       "    .dataframe tbody tr th:only-of-type {\n",
       "        vertical-align: middle;\n",
       "    }\n",
       "\n",
       "    .dataframe tbody tr th {\n",
       "        vertical-align: top;\n",
       "    }\n",
       "\n",
       "    .dataframe thead th {\n",
       "        text-align: right;\n",
       "    }\n",
       "</style>\n",
       "<table border=\"1\" class=\"dataframe\">\n",
       "  <thead>\n",
       "    <tr style=\"text-align: right;\">\n",
       "      <th></th>\n",
       "      <th>Pokemon</th>\n",
       "      <th>HP</th>\n",
       "      <th>Atk</th>\n",
       "    </tr>\n",
       "  </thead>\n",
       "  <tbody>\n",
       "    <tr>\n",
       "      <th>0</th>\n",
       "      <td>Bulbasaur</td>\n",
       "      <td>45</td>\n",
       "      <td>49</td>\n",
       "    </tr>\n",
       "    <tr>\n",
       "      <th>1</th>\n",
       "      <td>Ivysaur</td>\n",
       "      <td>60</td>\n",
       "      <td>62</td>\n",
       "    </tr>\n",
       "    <tr>\n",
       "      <th>2</th>\n",
       "      <td>Venusaur</td>\n",
       "      <td>80</td>\n",
       "      <td>82</td>\n",
       "    </tr>\n",
       "    <tr>\n",
       "      <th>3</th>\n",
       "      <td>Charmander</td>\n",
       "      <td>39</td>\n",
       "      <td>52</td>\n",
       "    </tr>\n",
       "    <tr>\n",
       "      <th>4</th>\n",
       "      <td>Charmeleon</td>\n",
       "      <td>58</td>\n",
       "      <td>64</td>\n",
       "    </tr>\n",
       "    <tr>\n",
       "      <th>5</th>\n",
       "      <td>Charizard</td>\n",
       "      <td>78</td>\n",
       "      <td>84</td>\n",
       "    </tr>\n",
       "  </tbody>\n",
       "</table>\n",
       "</div>"
      ],
      "text/plain": [
       "      Pokemon  HP  Atk\n",
       "0   Bulbasaur  45   49\n",
       "1     Ivysaur  60   62\n",
       "2    Venusaur  80   82\n",
       "3  Charmander  39   52\n",
       "4  Charmeleon  58   64\n",
       "5   Charizard  78   84"
      ]
     },
     "execution_count": 19,
     "metadata": {},
     "output_type": "execute_result"
    }
   ],
   "source": [
    "pokemon_Atk_HP.head(6)"
   ]
  },
  {
   "cell_type": "markdown",
   "id": "5326ce63-e594-413b-bc54-8dd7c946ceda",
   "metadata": {},
   "source": [
    "### Accessing Rows\n",
    "***"
   ]
  },
  {
   "cell_type": "code",
   "execution_count": 20,
   "id": "b34de70f-a3e9-4a90-90bf-acf261d302d9",
   "metadata": {},
   "outputs": [],
   "source": [
    "specific_row = df.iloc[0]"
   ]
  },
  {
   "cell_type": "code",
   "execution_count": 21,
   "id": "1fc263f4-da92-4433-91af-61a2419940ec",
   "metadata": {},
   "outputs": [
    {
     "name": "stdout",
     "output_type": "stream",
     "text": [
      "Per                       1.0\n",
      "Nat                       1.0\n",
      "Pokemon             Bulbasaur\n",
      "HP                         45\n",
      "Atk                        49\n",
      "Def                        49\n",
      "SpA                        65\n",
      "SpD                        65\n",
      "Spe                        45\n",
      "Total                     318\n",
      "Type I                  Grass\n",
      "Type II                Poison\n",
      "Tier                       NU\n",
      "Ability I            Overgrow\n",
      "Ability II                NaN\n",
      "Hidden Ability    Chlorophyll\n",
      "Mass                   6.9 kG\n",
      "LK/GK                      20\n",
      "EV Worth                1 SpA\n",
      "EXPV                       64\n",
      "Color                   Green\n",
      "Hatch                    5120\n",
      "Gender              M (87.5%)\n",
      "Egg Group I           Monster\n",
      "Egg Group II            Grass\n",
      "Catch                      45\n",
      "EXP                   1059860\n",
      "Evolve                    NaN\n",
      "Per.1                     1.0\n",
      "Nat.1                     1.0\n",
      "Joh                     226.0\n",
      "Hoe                       NaN\n",
      "Sin                       NaN\n",
      "Un                        NaN\n",
      "Pokemon.1           Bulbasaur\n",
      "Name: 0, dtype: object\n"
     ]
    }
   ],
   "source": [
    "print(specific_row)"
   ]
  },
  {
   "cell_type": "markdown",
   "id": "a562cce7-2aae-4654-b22b-666297316f8b",
   "metadata": {},
   "source": [
    "### Slicing Rows and Columns\n",
    "***"
   ]
  },
  {
   "cell_type": "code",
   "execution_count": 22,
   "id": "9c6ecaa8-3f3b-4b06-873d-ac7a6bbd9967",
   "metadata": {},
   "outputs": [],
   "source": [
    "rows_zero_to_ten = df.iloc[0:10]"
   ]
  },
  {
   "cell_type": "code",
   "execution_count": 23,
   "id": "f992fb0f-b9ce-4191-9fc2-92ee687189ca",
   "metadata": {},
   "outputs": [
    {
     "data": {
      "text/html": [
       "<div>\n",
       "<style scoped>\n",
       "    .dataframe tbody tr th:only-of-type {\n",
       "        vertical-align: middle;\n",
       "    }\n",
       "\n",
       "    .dataframe tbody tr th {\n",
       "        vertical-align: top;\n",
       "    }\n",
       "\n",
       "    .dataframe thead th {\n",
       "        text-align: right;\n",
       "    }\n",
       "</style>\n",
       "<table border=\"1\" class=\"dataframe\">\n",
       "  <thead>\n",
       "    <tr style=\"text-align: right;\">\n",
       "      <th></th>\n",
       "      <th>Per</th>\n",
       "      <th>Nat</th>\n",
       "      <th>Pokemon</th>\n",
       "      <th>HP</th>\n",
       "      <th>Atk</th>\n",
       "      <th>Def</th>\n",
       "      <th>SpA</th>\n",
       "      <th>SpD</th>\n",
       "      <th>Spe</th>\n",
       "      <th>Total</th>\n",
       "      <th>...</th>\n",
       "      <th>Catch</th>\n",
       "      <th>EXP</th>\n",
       "      <th>Evolve</th>\n",
       "      <th>Per.1</th>\n",
       "      <th>Nat.1</th>\n",
       "      <th>Joh</th>\n",
       "      <th>Hoe</th>\n",
       "      <th>Sin</th>\n",
       "      <th>Un</th>\n",
       "      <th>Pokemon.1</th>\n",
       "    </tr>\n",
       "  </thead>\n",
       "  <tbody>\n",
       "    <tr>\n",
       "      <th>0</th>\n",
       "      <td>1.0</td>\n",
       "      <td>1.0</td>\n",
       "      <td>Bulbasaur</td>\n",
       "      <td>45</td>\n",
       "      <td>49</td>\n",
       "      <td>49</td>\n",
       "      <td>65</td>\n",
       "      <td>65</td>\n",
       "      <td>45</td>\n",
       "      <td>318</td>\n",
       "      <td>...</td>\n",
       "      <td>45</td>\n",
       "      <td>1059860</td>\n",
       "      <td>NaN</td>\n",
       "      <td>1.0</td>\n",
       "      <td>1.0</td>\n",
       "      <td>226.0</td>\n",
       "      <td>NaN</td>\n",
       "      <td>NaN</td>\n",
       "      <td>NaN</td>\n",
       "      <td>Bulbasaur</td>\n",
       "    </tr>\n",
       "    <tr>\n",
       "      <th>1</th>\n",
       "      <td>2.0</td>\n",
       "      <td>2.0</td>\n",
       "      <td>Ivysaur</td>\n",
       "      <td>60</td>\n",
       "      <td>62</td>\n",
       "      <td>63</td>\n",
       "      <td>80</td>\n",
       "      <td>80</td>\n",
       "      <td>60</td>\n",
       "      <td>405</td>\n",
       "      <td>...</td>\n",
       "      <td>45</td>\n",
       "      <td>1059860</td>\n",
       "      <td>Lv. 16</td>\n",
       "      <td>2.0</td>\n",
       "      <td>2.0</td>\n",
       "      <td>227.0</td>\n",
       "      <td>NaN</td>\n",
       "      <td>NaN</td>\n",
       "      <td>NaN</td>\n",
       "      <td>Ivysaur</td>\n",
       "    </tr>\n",
       "    <tr>\n",
       "      <th>2</th>\n",
       "      <td>3.0</td>\n",
       "      <td>3.0</td>\n",
       "      <td>Venusaur</td>\n",
       "      <td>80</td>\n",
       "      <td>82</td>\n",
       "      <td>83</td>\n",
       "      <td>100</td>\n",
       "      <td>100</td>\n",
       "      <td>80</td>\n",
       "      <td>525</td>\n",
       "      <td>...</td>\n",
       "      <td>45</td>\n",
       "      <td>1059860</td>\n",
       "      <td>Lv. 32</td>\n",
       "      <td>3.0</td>\n",
       "      <td>3.0</td>\n",
       "      <td>228.0</td>\n",
       "      <td>NaN</td>\n",
       "      <td>NaN</td>\n",
       "      <td>NaN</td>\n",
       "      <td>Venusaur</td>\n",
       "    </tr>\n",
       "    <tr>\n",
       "      <th>3</th>\n",
       "      <td>4.0</td>\n",
       "      <td>4.0</td>\n",
       "      <td>Charmander</td>\n",
       "      <td>39</td>\n",
       "      <td>52</td>\n",
       "      <td>43</td>\n",
       "      <td>60</td>\n",
       "      <td>50</td>\n",
       "      <td>65</td>\n",
       "      <td>309</td>\n",
       "      <td>...</td>\n",
       "      <td>45</td>\n",
       "      <td>1059860</td>\n",
       "      <td>NaN</td>\n",
       "      <td>4.0</td>\n",
       "      <td>4.0</td>\n",
       "      <td>229.0</td>\n",
       "      <td>NaN</td>\n",
       "      <td>NaN</td>\n",
       "      <td>NaN</td>\n",
       "      <td>Charmander</td>\n",
       "    </tr>\n",
       "    <tr>\n",
       "      <th>4</th>\n",
       "      <td>5.0</td>\n",
       "      <td>5.0</td>\n",
       "      <td>Charmeleon</td>\n",
       "      <td>58</td>\n",
       "      <td>64</td>\n",
       "      <td>58</td>\n",
       "      <td>80</td>\n",
       "      <td>65</td>\n",
       "      <td>80</td>\n",
       "      <td>405</td>\n",
       "      <td>...</td>\n",
       "      <td>45</td>\n",
       "      <td>1059860</td>\n",
       "      <td>Lv. 16</td>\n",
       "      <td>5.0</td>\n",
       "      <td>5.0</td>\n",
       "      <td>230.0</td>\n",
       "      <td>NaN</td>\n",
       "      <td>NaN</td>\n",
       "      <td>NaN</td>\n",
       "      <td>Charmeleon</td>\n",
       "    </tr>\n",
       "    <tr>\n",
       "      <th>5</th>\n",
       "      <td>6.0</td>\n",
       "      <td>6.0</td>\n",
       "      <td>Charizard</td>\n",
       "      <td>78</td>\n",
       "      <td>84</td>\n",
       "      <td>78</td>\n",
       "      <td>109</td>\n",
       "      <td>85</td>\n",
       "      <td>100</td>\n",
       "      <td>534</td>\n",
       "      <td>...</td>\n",
       "      <td>45</td>\n",
       "      <td>1059860</td>\n",
       "      <td>Lv. 36</td>\n",
       "      <td>6.0</td>\n",
       "      <td>6.0</td>\n",
       "      <td>231.0</td>\n",
       "      <td>NaN</td>\n",
       "      <td>NaN</td>\n",
       "      <td>NaN</td>\n",
       "      <td>Charizard</td>\n",
       "    </tr>\n",
       "    <tr>\n",
       "      <th>6</th>\n",
       "      <td>7.0</td>\n",
       "      <td>7.0</td>\n",
       "      <td>Squirtle</td>\n",
       "      <td>44</td>\n",
       "      <td>48</td>\n",
       "      <td>65</td>\n",
       "      <td>60</td>\n",
       "      <td>54</td>\n",
       "      <td>43</td>\n",
       "      <td>314</td>\n",
       "      <td>...</td>\n",
       "      <td>45</td>\n",
       "      <td>1059860</td>\n",
       "      <td>NaN</td>\n",
       "      <td>7.0</td>\n",
       "      <td>7.0</td>\n",
       "      <td>232.0</td>\n",
       "      <td>NaN</td>\n",
       "      <td>NaN</td>\n",
       "      <td>NaN</td>\n",
       "      <td>Squirtle</td>\n",
       "    </tr>\n",
       "    <tr>\n",
       "      <th>7</th>\n",
       "      <td>8.0</td>\n",
       "      <td>8.0</td>\n",
       "      <td>Wartortle</td>\n",
       "      <td>59</td>\n",
       "      <td>63</td>\n",
       "      <td>80</td>\n",
       "      <td>65</td>\n",
       "      <td>80</td>\n",
       "      <td>58</td>\n",
       "      <td>405</td>\n",
       "      <td>...</td>\n",
       "      <td>45</td>\n",
       "      <td>1059860</td>\n",
       "      <td>Lv. 16</td>\n",
       "      <td>8.0</td>\n",
       "      <td>8.0</td>\n",
       "      <td>233.0</td>\n",
       "      <td>NaN</td>\n",
       "      <td>NaN</td>\n",
       "      <td>NaN</td>\n",
       "      <td>Wartortle</td>\n",
       "    </tr>\n",
       "    <tr>\n",
       "      <th>8</th>\n",
       "      <td>9.0</td>\n",
       "      <td>9.0</td>\n",
       "      <td>Blastoise</td>\n",
       "      <td>79</td>\n",
       "      <td>83</td>\n",
       "      <td>100</td>\n",
       "      <td>85</td>\n",
       "      <td>105</td>\n",
       "      <td>78</td>\n",
       "      <td>530</td>\n",
       "      <td>...</td>\n",
       "      <td>45</td>\n",
       "      <td>1059860</td>\n",
       "      <td>Lv. 36</td>\n",
       "      <td>9.0</td>\n",
       "      <td>9.0</td>\n",
       "      <td>234.0</td>\n",
       "      <td>NaN</td>\n",
       "      <td>NaN</td>\n",
       "      <td>NaN</td>\n",
       "      <td>Blastoise</td>\n",
       "    </tr>\n",
       "    <tr>\n",
       "      <th>9</th>\n",
       "      <td>10.0</td>\n",
       "      <td>10.0</td>\n",
       "      <td>Caterpie</td>\n",
       "      <td>45</td>\n",
       "      <td>30</td>\n",
       "      <td>35</td>\n",
       "      <td>20</td>\n",
       "      <td>20</td>\n",
       "      <td>45</td>\n",
       "      <td>195</td>\n",
       "      <td>...</td>\n",
       "      <td>255</td>\n",
       "      <td>1000000</td>\n",
       "      <td>NaN</td>\n",
       "      <td>10.0</td>\n",
       "      <td>10.0</td>\n",
       "      <td>24.0</td>\n",
       "      <td>NaN</td>\n",
       "      <td>NaN</td>\n",
       "      <td>NaN</td>\n",
       "      <td>Caterpie</td>\n",
       "    </tr>\n",
       "  </tbody>\n",
       "</table>\n",
       "<p>10 rows × 35 columns</p>\n",
       "</div>"
      ],
      "text/plain": [
       "    Per   Nat     Pokemon  HP  Atk  Def  SpA  SpD  Spe  Total  ... Catch  \\\n",
       "0   1.0   1.0   Bulbasaur  45   49   49   65   65   45    318  ...    45   \n",
       "1   2.0   2.0     Ivysaur  60   62   63   80   80   60    405  ...    45   \n",
       "2   3.0   3.0    Venusaur  80   82   83  100  100   80    525  ...    45   \n",
       "3   4.0   4.0  Charmander  39   52   43   60   50   65    309  ...    45   \n",
       "4   5.0   5.0  Charmeleon  58   64   58   80   65   80    405  ...    45   \n",
       "5   6.0   6.0   Charizard  78   84   78  109   85  100    534  ...    45   \n",
       "6   7.0   7.0    Squirtle  44   48   65   60   54   43    314  ...    45   \n",
       "7   8.0   8.0   Wartortle  59   63   80   65   80   58    405  ...    45   \n",
       "8   9.0   9.0   Blastoise  79   83  100   85  105   78    530  ...    45   \n",
       "9  10.0  10.0    Caterpie  45   30   35   20   20   45    195  ...   255   \n",
       "\n",
       "       EXP  Evolve Per.1 Nat.1    Joh Hoe  Sin  Un   Pokemon.1  \n",
       "0  1059860     NaN   1.0   1.0  226.0 NaN  NaN NaN   Bulbasaur  \n",
       "1  1059860  Lv. 16   2.0   2.0  227.0 NaN  NaN NaN     Ivysaur  \n",
       "2  1059860  Lv. 32   3.0   3.0  228.0 NaN  NaN NaN    Venusaur  \n",
       "3  1059860     NaN   4.0   4.0  229.0 NaN  NaN NaN  Charmander  \n",
       "4  1059860  Lv. 16   5.0   5.0  230.0 NaN  NaN NaN  Charmeleon  \n",
       "5  1059860  Lv. 36   6.0   6.0  231.0 NaN  NaN NaN   Charizard  \n",
       "6  1059860     NaN   7.0   7.0  232.0 NaN  NaN NaN    Squirtle  \n",
       "7  1059860  Lv. 16   8.0   8.0  233.0 NaN  NaN NaN   Wartortle  \n",
       "8  1059860  Lv. 36   9.0   9.0  234.0 NaN  NaN NaN   Blastoise  \n",
       "9  1000000     NaN  10.0  10.0   24.0 NaN  NaN NaN    Caterpie  \n",
       "\n",
       "[10 rows x 35 columns]"
      ]
     },
     "execution_count": 23,
     "metadata": {},
     "output_type": "execute_result"
    }
   ],
   "source": [
    "rows_zero_to_ten.head(10)"
   ]
  },
  {
   "cell_type": "markdown",
   "id": "015acbf7-df71-4576-a893-55281041ff32",
   "metadata": {},
   "source": [
    "### Useful PANDAS Methods\n",
    "***"
   ]
  },
  {
   "cell_type": "code",
   "execution_count": 24,
   "id": "509a206f-f51b-46f1-aa5d-c6f5d41ef461",
   "metadata": {},
   "outputs": [
    {
     "data": {
      "text/plain": [
       "464     Abomasnow\n",
       "62           Abra\n",
       "358         Absol\n",
       "629      Accelgor\n",
       "141    Aerodactyl\n",
       "          ...    \n",
       "262     Zigzagoon\n",
       "583       Zoroark\n",
       "582         Zorua\n",
       "40          Zubat\n",
       "646      Zweilous\n",
       "Name: Pokemon, Length: 663, dtype: object"
      ]
     },
     "execution_count": 24,
     "metadata": {},
     "output_type": "execute_result"
    }
   ],
   "source": [
    "df.Pokemon.sort_values() #sorts values of Pokemon column"
   ]
  },
  {
   "cell_type": "code",
   "execution_count": 25,
   "id": "93825659-b26e-4318-8395-d665a06eee9e",
   "metadata": {},
   "outputs": [
    {
     "data": {
      "text/plain": [
       "0     Bulbasaur\n",
       "1       Ivysaur\n",
       "2      Venusaur\n",
       "3    Charmander\n",
       "4    Charmeleon\n",
       "5     Charizard\n",
       "6      Squirtle\n",
       "7     Wartortle\n",
       "8     Blastoise\n",
       "9      Caterpie\n",
       "Name: Pokemon, dtype: object"
      ]
     },
     "execution_count": 25,
     "metadata": {},
     "output_type": "execute_result"
    }
   ],
   "source": [
    "df.Pokemon[0:10] #sorts value of first 9 index items"
   ]
  },
  {
   "cell_type": "code",
   "execution_count": 26,
   "id": "f7c2c1e3-e2b1-40da-8c61-63c16b97b8d2",
   "metadata": {},
   "outputs": [
    {
     "data": {
      "text/plain": [
       "8     Blastoise\n",
       "0     Bulbasaur\n",
       "9      Caterpie\n",
       "5     Charizard\n",
       "3    Charmander\n",
       "4    Charmeleon\n",
       "1       Ivysaur\n",
       "6      Squirtle\n",
       "2      Venusaur\n",
       "7     Wartortle\n",
       "Name: Pokemon, dtype: object"
      ]
     },
     "execution_count": 26,
     "metadata": {},
     "output_type": "execute_result"
    }
   ],
   "source": [
    "df.Pokemon[0:10].sort_values() #sorts value of first 9 rows"
   ]
  },
  {
   "cell_type": "code",
   "execution_count": 27,
   "id": "c2cdbdf8-57b1-418e-a8f2-67d76d2f19b9",
   "metadata": {},
   "outputs": [
    {
     "data": {
      "text/plain": [
       "68.34087481146305"
      ]
     },
     "execution_count": 27,
     "metadata": {},
     "output_type": "execute_result"
    }
   ],
   "source": [
    "df.HP.mean() #gets mean"
   ]
  },
  {
   "cell_type": "code",
   "execution_count": 28,
   "id": "1647fc48-ad72-4e11-9562-acdebd7fb3dc",
   "metadata": {},
   "outputs": [
    {
     "data": {
      "text/plain": [
       "count    663.000000\n",
       "mean      68.962293\n",
       "std       29.246841\n",
       "min       10.000000\n",
       "25%       45.000000\n",
       "50%       65.000000\n",
       "75%       90.000000\n",
       "max      180.000000\n",
       "Name: SpA, dtype: float64"
      ]
     },
     "execution_count": 28,
     "metadata": {},
     "output_type": "execute_result"
    }
   ],
   "source": [
    "df.SpA.describe()"
   ]
  },
  {
   "cell_type": "markdown",
   "id": "d3094429-fc00-41f2-9e91-ea9bc431252c",
   "metadata": {},
   "source": [
    "### Filtering Data\n",
    "***"
   ]
  },
  {
   "cell_type": "code",
   "execution_count": 31,
   "id": "dc69bf7b-e5a6-46f1-ab77-94dccdadb6df",
   "metadata": {},
   "outputs": [],
   "source": [
    "chu_pokemon = df[df[\"Pokemon\"].str.contains(\"chu\")]"
   ]
  },
  {
   "cell_type": "code",
   "execution_count": 32,
   "id": "681b791a-74d3-4c05-a54c-c23286f65b28",
   "metadata": {},
   "outputs": [
    {
     "name": "stdout",
     "output_type": "stream",
     "text": [
      "       Per    Nat   Pokemon  HP  Atk  Def  SpA  SpD  Spe  Total  ... Catch  \\\n",
      "24    26.0   25.0   Pikachu  35   55   30   50   40   90    300  ...   190   \n",
      "25    27.0   26.0    Raichu  60   90   55   90   80  100    475  ...    75   \n",
      "171   25.0  172.0     Pichu  20   40   15   35   35   60    205  ...   190   \n",
      "237  143.0  238.0  Smoochum  45   30   15   85   65   65    305  ...    45   \n",
      "\n",
      "         EXP        Evolve  Per.1  Nat.1    Joh    Hoe    Sin  Un  Pokemon.1  \n",
      "24   1000000    Friendship   26.0   25.0   22.0  156.0  104.0 NaN    Pikachu  \n",
      "25   1000000  Thunderstone   27.0   26.0   23.0  157.0  105.0 NaN     Raichu  \n",
      "171  1000000           NaN   25.0  172.0   21.0  155.0  103.0 NaN      Pichu  \n",
      "237  1000000           NaN  143.0  238.0  152.0    NaN    NaN NaN   Smoochum  \n",
      "\n",
      "[4 rows x 35 columns]\n"
     ]
    }
   ],
   "source": [
    "print(chu_pokemon)"
   ]
  },
  {
   "cell_type": "code",
   "execution_count": 33,
   "id": "2b2533e6-7896-4562-9939-f54923401753",
   "metadata": {},
   "outputs": [],
   "source": [
    "special_attack_70 = df[df[\"SpA\"]==70]"
   ]
  },
  {
   "cell_type": "code",
   "execution_count": 34,
   "id": "a87d39ee-5987-4f4c-95c1-6dcab354126b",
   "metadata": {},
   "outputs": [
    {
     "name": "stdout",
     "output_type": "stream",
     "text": [
      "       Per    Nat     Pokemon   HP  Atk  Def  SpA  SpD  Spe  Total  ... Catch  \\\n",
      "17    18.0   18.0     Pidgeot   83   80   75   70   70   91    469  ...    45   \n",
      "57    63.0   58.0   Growlithe   55   70   45   70   50   60    350  ...   190   \n",
      "61    67.0   62.0   Poliwrath   90   85   95   70   90   70    500  ...    45   \n",
      "68    75.0   69.0  Bellsprout   50   75   35   70   30   40    300  ...   255   \n",
      "86    95.0   87.0     Dewgong   90   70   80   70   95   70    475  ...    75   \n",
      "115  132.0  116.0      Horsea   30   40   70   70   25   60    295  ...   225   \n",
      "119  137.0  120.0      Staryu   30   45   55   70   55   85    340  ...   225   \n",
      "147  179.0  148.0   Dragonair   61   84   65   70   70   70    420  ...    45   \n",
      "168   46.0  169.0      Crobat   85   90   80   70   80  130    535  ...    90   \n",
      "176  205.0  177.0        Natu   40   50   45   70   45   70    320  ...   190   \n",
      "217  248.0  218.0      Slugma   40   40   40   70   40   20    250  ...   190   \n",
      "239  148.0  240.0       Magby   45   75   37   70   55   83    365  ...    45   \n",
      "254  279.0  255.0     Torchic   45   60   40   70   50   45    310  ...    45   \n",
      "319  347.0  320.0     Wailmer  130   70   35   70   35   60    400  ...   125   \n",
      "324  352.0  325.0      Spoink   60   25   35   70   80   60    330  ...   255   \n",
      "333  361.0  334.0     Altaria   75   70   90   70  105   80    490  ...    45   \n",
      "343  371.0  344.0     Claydol   60   70  105   70  120   75    500  ...    90   \n",
      "347  375.0  348.0     Armaldo   75  125  100   70   80   45    495  ...    45   \n",
      "350  378.0  351.0    Castform   70   70   70   70   70   70    420  ...    45   \n",
      "387  415.2  386.2  Deoxys (D)   50   70  160   70  160   90    600  ...     3   \n",
      "443  139.0  439.0    Mime Jr.   20   25   45   70   90   60    310  ...   145   \n",
      "477  252.0  473.0   Mamoswine  110  130   80   70   60   80    530  ...    50   \n",
      "510  499.0  499.0     Pignite   90   93   55   70   55   55    418  ...    45   \n",
      "553  542.0  542.0    Leavanny   75  103   80   70   70   92    490  ...    45   \n",
      "559  548.0  548.0     Petilil   45   35   50   70   50   30    280  ...   190   \n",
      "612  600.0  600.0       Klang   60   80   95   70   85   50    440  ...    60   \n",
      "613  601.0  601.0   Klinklang   60  100  115   70   85   90    520  ...    30   \n",
      "626  614.0  614.0     Beartic   95  110   80   70   80   50    485  ...    60   \n",
      "\n",
      "         EXP                 Evolve  Per.1  Nat.1    Joh    Hoe    Sin     Un  \\\n",
      "17   1059860                 Lv. 36   18.0   18.0   12.0    NaN    NaN    NaN   \n",
      "57   1250000                    NaN   63.0   58.0  127.0    NaN    NaN    NaN   \n",
      "61   1059860            Water Stone   67.0   62.0   74.0    NaN    NaN    NaN   \n",
      "68   1059860                    NaN   75.0   69.0   64.0    NaN    NaN    NaN   \n",
      "86   1000000                 Lv. 34   95.0   87.0  177.0    NaN    NaN    NaN   \n",
      "115  1000000                    NaN  132.0  116.0  186.0  184.0    NaN    NaN   \n",
      "119  1250000                    NaN  137.0  120.0  167.0  143.0    NaN    NaN   \n",
      "147  1250000                 Lv. 30  179.0  148.0  242.0    NaN    NaN    NaN   \n",
      "168  1000000             Friendship   46.0  169.0   39.0   65.0   30.0    NaN   \n",
      "176  1000000                    NaN  205.0  177.0  159.0  162.0    NaN    NaN   \n",
      "217  1000000                    NaN  248.0  218.0  211.0  103.0    NaN    NaN   \n",
      "239  1000000                    NaN  148.0  240.0  150.0    NaN  200.0    NaN   \n",
      "254  1059860                    NaN  279.0  255.0    NaN    4.0    NaN    NaN   \n",
      "319  1640000                    NaN  347.0  320.0    NaN   99.0    NaN    NaN   \n",
      "324   800000                    NaN  352.0  325.0    NaN  110.0    NaN    NaN   \n",
      "333   600000                 Lv. 35  361.0  334.0    NaN  122.0  172.0    NaN   \n",
      "343  1000000                 Lv. 36  371.0  344.0    NaN  132.0    NaN    NaN   \n",
      "347   600000                 Lv. 40  375.0  348.0    NaN  136.0    NaN    NaN   \n",
      "350  1000000                      N  378.0  351.0    NaN  142.0    NaN    NaN   \n",
      "387  1250000                      N  415.2  386.2    NaN  202.2    NaN    NaN   \n",
      "443  1000000                    NaN  139.0  439.0    NaN    NaN   94.0    NaN   \n",
      "477  1250000  Level w/ Ancientpower  252.0  473.0    NaN    NaN  205.0    NaN   \n",
      "510  1059860                 Lv. 17  499.0  499.0    NaN    NaN    NaN    5.0   \n",
      "553  1059860             Friendship  542.0  542.0    NaN    NaN    NaN   48.0   \n",
      "559  1000000                    NaN  548.0  548.0    NaN    NaN    NaN   54.0   \n",
      "612  1059860                 Lv. 38  600.0  600.0    NaN    NaN    NaN  106.0   \n",
      "613  1059860                 Lv. 49  601.0  601.0    NaN    NaN    NaN  107.0   \n",
      "626  1000000                 Lv. 37  614.0  614.0    NaN    NaN    NaN  120.0   \n",
      "\n",
      "      Pokemon.1  \n",
      "17      Pidgeot  \n",
      "57    Growlithe  \n",
      "61    Poliwrath  \n",
      "68   Bellsprout  \n",
      "86      Dewgong  \n",
      "115      Horsea  \n",
      "119      Staryu  \n",
      "147   Dragonair  \n",
      "168      Crobat  \n",
      "176        Natu  \n",
      "217      Slugma  \n",
      "239       Magby  \n",
      "254     Torchic  \n",
      "319     Wailmer  \n",
      "324      Spoink  \n",
      "333     Altaria  \n",
      "343     Claydol  \n",
      "347     Armaldo  \n",
      "350    Castform  \n",
      "387  Deoxys (D)  \n",
      "443    Mime Jr.  \n",
      "477   Mamoswine  \n",
      "510     Pignite  \n",
      "553    Leavanny  \n",
      "559     Petilil  \n",
      "612       Klang  \n",
      "613   Klinklang  \n",
      "626     Beartic  \n",
      "\n",
      "[28 rows x 35 columns]\n"
     ]
    }
   ],
   "source": [
    "print(special_attack_70)"
   ]
  },
  {
   "cell_type": "markdown",
   "id": "7e7f6d16-631e-492c-85c4-93fccd673035",
   "metadata": {},
   "source": [
    "### Filtering with Logical Operators\n",
    "***"
   ]
  },
  {
   "cell_type": "code",
   "execution_count": 35,
   "id": "a9efd722-4555-47a5-a53e-9adc3154008c",
   "metadata": {},
   "outputs": [],
   "source": [
    "water_high_speed = df[df[\"Spe\"]>100]"
   ]
  },
  {
   "cell_type": "code",
   "execution_count": 36,
   "id": "8bcfb20b-682a-41ee-9eaf-0ecfa05fe266",
   "metadata": {},
   "outputs": [
    {
     "name": "stdout",
     "output_type": "stream",
     "text": [
      "       Per    Nat       Pokemon   HP  Atk  Def  SpA  SpD  Spe  Total  ...  \\\n",
      "50    56.0   51.0       Dugtrio   35   80   50   50   70  120    405  ...   \n",
      "52    58.0   53.0       Persian   65   70   60   65   65  115    440  ...   \n",
      "63    70.0   64.0       Kadabra   40   35   30  120   70  105    400  ...   \n",
      "64    71.0   65.0      Alakazam   55   50   45  135   85  120    490  ...   \n",
      "77    84.0   78.0      Rapidash   65  100   70   80   80  105    500  ...   \n",
      "..     ...    ...           ...  ...  ...  ...  ...  ...  ...    ...  ...   \n",
      "653  641.0  641.0      Tornadus   79  115   70  125   80  111    580  ...   \n",
      "654  642.0  642.0     Thundurus   79  115   70  125   80  111    580  ...   \n",
      "657  645.0  645.0      Landorus   89  125   90  115   80  101    600  ...   \n",
      "659  647.0  647.0        Keldeo   91   72   90  129   90  108    580  ...   \n",
      "661  648.1  648.1  Meloetta (P)  100  128   90   77   77  128    600  ...   \n",
      "\n",
      "    Catch      EXP  Evolve  Per.1  Nat.1    Joh   Hoe   Sin     Un  \\\n",
      "50     50  1000000  Lv. 26   56.0   51.0  133.0   NaN   NaN    NaN   \n",
      "52     90  1000000  Lv. 28   58.0   53.0  137.0   NaN   NaN    NaN   \n",
      "63    100  1059860  Lv. 16   70.0   64.0   90.0  40.0  21.0    NaN   \n",
      "64     50  1059860   Trade   71.0   65.0   91.0  41.0  22.0    NaN   \n",
      "77     60  1000000  Lv. 40   84.0   78.0  202.0   NaN  78.0    NaN   \n",
      "..    ...      ...     ...    ...    ...    ...   ...   ...    ...   \n",
      "653     3  1250000       N  641.0  641.0    NaN   NaN   NaN  147.0   \n",
      "654     3  1250000       N  642.0  642.0    NaN   NaN   NaN  148.0   \n",
      "657     3  1250000       N  645.0  645.0    NaN   NaN   NaN  151.0   \n",
      "659     3  1250000       N  647.0  647.0    NaN   NaN   NaN  153.0   \n",
      "661     3  1250000       N  648.1  648.1    NaN   NaN   NaN  154.1   \n",
      "\n",
      "        Pokemon.1  \n",
      "50        Dugtrio  \n",
      "52        Persian  \n",
      "63        Kadabra  \n",
      "64       Alakazam  \n",
      "77       Rapidash  \n",
      "..            ...  \n",
      "653      Tornadus  \n",
      "654     Thundurus  \n",
      "657      Landorus  \n",
      "659        Keldeo  \n",
      "661  Meloetta (P)  \n",
      "\n",
      "[68 rows x 35 columns]\n"
     ]
    }
   ],
   "source": [
    "print(water_high_speed)"
   ]
  },
  {
   "cell_type": "code",
   "execution_count": null,
   "id": "71b04868-c02b-405f-95e6-4c1fc12f11fe",
   "metadata": {},
   "outputs": [],
   "source": []
  }
 ],
 "metadata": {
  "kernelspec": {
   "display_name": "Python 3 (ipykernel)",
   "language": "python",
   "name": "python3"
  },
  "language_info": {
   "codemirror_mode": {
    "name": "ipython",
    "version": 3
   },
   "file_extension": ".py",
   "mimetype": "text/x-python",
   "name": "python",
   "nbconvert_exporter": "python",
   "pygments_lexer": "ipython3",
   "version": "3.10.13"
  }
 },
 "nbformat": 4,
 "nbformat_minor": 5
}
